{
 "cells": [
  {
   "cell_type": "code",
   "execution_count": null,
   "metadata": {},
   "outputs": [],
   "source": [
    "# Client\n",
    "\n",
    "import socket \n",
    "host=socket.gethostname()\n",
    "port=5000\n",
    "client_socket=socket.socket()\n",
    "client_socket.connect((host,port))\n",
    "msg=input(\"---->\")\n",
    "while msg.lower().strip()!='bye':\n",
    "    client_socket.send(msg.encode())\n",
    "    data=client_socket.recv(1024).decode()\n",
    "    print(\"Recv from server : \"+data)\n",
    "    msg=input(\"---->\")\n",
    "client_socket.close()"
   ]
  },
  {
   "cell_type": "code",
   "execution_count": null,
   "metadata": {},
   "outputs": [],
   "source": []
  }
 ],
 "metadata": {
  "kernelspec": {
   "display_name": "Python 3",
   "language": "python",
   "name": "python3"
  },
  "language_info": {
   "codemirror_mode": {
    "name": "ipython",
    "version": 3
   },
   "file_extension": ".py",
   "mimetype": "text/x-python",
   "name": "python",
   "nbconvert_exporter": "python",
   "pygments_lexer": "ipython3",
   "version": "3.8.5"
  }
 },
 "nbformat": 4,
 "nbformat_minor": 4
}
