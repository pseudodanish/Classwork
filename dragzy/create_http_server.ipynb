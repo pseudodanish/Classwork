{
 "cells": [
  {
   "cell_type": "code",
   "execution_count": null,
   "metadata": {},
   "outputs": [],
   "source": [
    "import socket\n",
    "server_socket=socket.socket()\n",
    "server_socket.bind((\"localhost\",9000))\n",
    "server_socket.listen()\n",
    "while(1):\n",
    "    (client_socket,address)=server_socket.accept()\n",
    "    rd=client_socket.recv(5000).decode()\n",
    "    print(rd)\n",
    "    data=\"HTTP:/1.1200 ok\\r\\n\"\n",
    "    data+=\"content-type:text/html,charset=utf-8\\r\\n\"\n",
    "    data+=\"\\r\\n\"\n",
    "    data+=\"<html><body>Hello World!</body><html>\\r\\n\\r\\n\"\n",
    "    client_socket.send(data.encode())\n",
    "server_socket.close()\n",
    "print(\"http://localhost:9000\")"
   ]
  },
  {
   "cell_type": "code",
   "execution_count": null,
   "metadata": {},
   "outputs": [],
   "source": []
  }
 ],
 "metadata": {
  "kernelspec": {
   "display_name": "Python 3",
   "language": "python",
   "name": "python3"
  },
  "language_info": {
   "codemirror_mode": {
    "name": "ipython",
    "version": 3
   },
   "file_extension": ".py",
   "mimetype": "text/x-python",
   "name": "python",
   "nbconvert_exporter": "python",
   "pygments_lexer": "ipython3",
   "version": "3.8.5"
  }
 },
 "nbformat": 4,
 "nbformat_minor": 4
}
