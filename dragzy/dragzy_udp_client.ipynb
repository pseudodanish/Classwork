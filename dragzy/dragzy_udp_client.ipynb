{
 "cells": [
  {
   "cell_type": "code",
   "execution_count": 1,
   "metadata": {},
   "outputs": [
    {
     "name": "stdout",
     "output_type": "stream",
     "text": [
      "--->56\n",
      "Received :  2\n",
      "--->25\n",
      "Received :  1\n",
      "--->24\n",
      "Received :  0\n",
      "--->36\n",
      "Received :  0\n",
      "--->39\n",
      "Received :  0\n",
      "--->52\n",
      "Received :  1\n",
      "--->\n"
     ]
    }
   ],
   "source": [
    "import socket\n",
    "host=socket.gethostname()\n",
    "port=21567\n",
    "ADDR=(host,port)\n",
    "client_socket=socket.socket(type=socket.SOCK_DGRAM)\n",
    "while True:\n",
    "    msg=input(\"--->\")\n",
    "    if not msg:\n",
    "        break\n",
    "    client_socket.sendto(msg.encode(),ADDR)\n",
    "    msg,ADDR=client_socket.recvfrom(1024)\n",
    "    if not msg:\n",
    "        break\n",
    "    print(\"Received : \",msg.decode())\n",
    "client_socket.close()"
   ]
  },
  {
   "cell_type": "code",
   "execution_count": null,
   "metadata": {},
   "outputs": [],
   "source": []
  }
 ],
 "metadata": {
  "kernelspec": {
   "display_name": "Python 3",
   "language": "python",
   "name": "python3"
  },
  "language_info": {
   "codemirror_mode": {
    "name": "ipython",
    "version": 3
   },
   "file_extension": ".py",
   "mimetype": "text/x-python",
   "name": "python",
   "nbconvert_exporter": "python",
   "pygments_lexer": "ipython3",
   "version": "3.8.5"
  }
 },
 "nbformat": 4,
 "nbformat_minor": 4
}
